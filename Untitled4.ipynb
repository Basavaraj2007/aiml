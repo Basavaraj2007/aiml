{
  "nbformat": 4,
  "nbformat_minor": 0,
  "metadata": {
    "colab": {
      "provenance": [],
      "authorship_tag": "ABX9TyOZDmFOeuCAioMtW6AraK5r",
      "include_colab_link": true
    },
    "kernelspec": {
      "name": "python3",
      "display_name": "Python 3"
    },
    "language_info": {
      "name": "python"
    }
  },
  "cells": [
    {
      "cell_type": "markdown",
      "metadata": {
        "id": "view-in-github",
        "colab_type": "text"
      },
      "source": [
        "<a href=\"https://colab.research.google.com/github/Basavaraj2007/aiml/blob/main/Untitled4.ipynb\" target=\"_parent\"><img src=\"https://colab.research.google.com/assets/colab-badge.svg\" alt=\"Open In Colab\"/></a>"
      ]
    },
    {
      "cell_type": "code",
      "execution_count": 1,
      "metadata": {
        "colab": {
          "base_uri": "https://localhost:8080/"
        },
        "id": "6_h3n2a7HEl0",
        "outputId": "0785bcf3-1b67-4272-8654-adc110087582"
      },
      "outputs": [
        {
          "output_type": "stream",
          "name": "stdout",
          "text": [
            "   survived  pclass     sex   age  sibsp  parch     fare embarked  class  \\\n",
            "0         0       3    male  22.0      1      0   7.2500        S  Third   \n",
            "1         1       1  female  38.0      1      0  71.2833        C  First   \n",
            "2         1       3  female  26.0      0      0   7.9250        S  Third   \n",
            "3         1       1  female  35.0      1      0  53.1000        S  First   \n",
            "4         0       3    male  35.0      0      0   8.0500        S  Third   \n",
            "\n",
            "     who  adult_male deck  embark_town alive  alone  \n",
            "0    man        True  NaN  Southampton    no  False  \n",
            "1  woman       False    C    Cherbourg   yes  False  \n",
            "2  woman       False  NaN  Southampton   yes   True  \n",
            "3  woman       False    C  Southampton   yes  False  \n",
            "4    man        True  NaN  Southampton    no   True  \n",
            "<class 'pandas.core.frame.DataFrame'>\n",
            "RangeIndex: 891 entries, 0 to 890\n",
            "Data columns (total 15 columns):\n",
            " #   Column       Non-Null Count  Dtype   \n",
            "---  ------       --------------  -----   \n",
            " 0   survived     891 non-null    int64   \n",
            " 1   pclass       891 non-null    int64   \n",
            " 2   sex          891 non-null    object  \n",
            " 3   age          714 non-null    float64 \n",
            " 4   sibsp        891 non-null    int64   \n",
            " 5   parch        891 non-null    int64   \n",
            " 6   fare         891 non-null    float64 \n",
            " 7   embarked     889 non-null    object  \n",
            " 8   class        891 non-null    category\n",
            " 9   who          891 non-null    object  \n",
            " 10  adult_male   891 non-null    bool    \n",
            " 11  deck         203 non-null    category\n",
            " 12  embark_town  889 non-null    object  \n",
            " 13  alive        891 non-null    object  \n",
            " 14  alone        891 non-null    bool    \n",
            "dtypes: bool(2), category(2), float64(2), int64(4), object(5)\n",
            "memory usage: 80.7+ KB\n",
            "None\n"
          ]
        }
      ],
      "source": [
        "import pandas as pd\n",
        "import seaborn as sns\n",
        "import matplotlib.pyplot as plt\n",
        "df=sns.load_dataset('titanic')\n",
        "print(df.head())\n",
        "print(df.info())"
      ]
    },
    {
      "cell_type": "code",
      "source": [
        "print(\"age\",df['age'].describe())\n",
        "print(\"fare\",df['fare'].describe())\n",
        "print(df.head)"
      ],
      "metadata": {
        "colab": {
          "base_uri": "https://localhost:8080/"
        },
        "id": "lE4LG1zCHnU9",
        "outputId": "9e22988a-f8a1-4e0b-81ec-c321fb5b3bdb"
      },
      "execution_count": 2,
      "outputs": [
        {
          "output_type": "stream",
          "name": "stdout",
          "text": [
            "age count    714.000000\n",
            "mean      29.699118\n",
            "std       14.526497\n",
            "min        0.420000\n",
            "25%       20.125000\n",
            "50%       28.000000\n",
            "75%       38.000000\n",
            "max       80.000000\n",
            "Name: age, dtype: float64\n",
            "fare count    891.000000\n",
            "mean      32.204208\n",
            "std       49.693429\n",
            "min        0.000000\n",
            "25%        7.910400\n",
            "50%       14.454200\n",
            "75%       31.000000\n",
            "max      512.329200\n",
            "Name: fare, dtype: float64\n",
            "<bound method NDFrame.head of      survived  pclass     sex   age  sibsp  parch     fare embarked   class  \\\n",
            "0           0       3    male  22.0      1      0   7.2500        S   Third   \n",
            "1           1       1  female  38.0      1      0  71.2833        C   First   \n",
            "2           1       3  female  26.0      0      0   7.9250        S   Third   \n",
            "3           1       1  female  35.0      1      0  53.1000        S   First   \n",
            "4           0       3    male  35.0      0      0   8.0500        S   Third   \n",
            "..        ...     ...     ...   ...    ...    ...      ...      ...     ...   \n",
            "886         0       2    male  27.0      0      0  13.0000        S  Second   \n",
            "887         1       1  female  19.0      0      0  30.0000        S   First   \n",
            "888         0       3  female   NaN      1      2  23.4500        S   Third   \n",
            "889         1       1    male  26.0      0      0  30.0000        C   First   \n",
            "890         0       3    male  32.0      0      0   7.7500        Q   Third   \n",
            "\n",
            "       who  adult_male deck  embark_town alive  alone  \n",
            "0      man        True  NaN  Southampton    no  False  \n",
            "1    woman       False    C    Cherbourg   yes  False  \n",
            "2    woman       False  NaN  Southampton   yes   True  \n",
            "3    woman       False    C  Southampton   yes  False  \n",
            "4      man        True  NaN  Southampton    no   True  \n",
            "..     ...         ...  ...          ...   ...    ...  \n",
            "886    man        True  NaN  Southampton    no   True  \n",
            "887  woman       False    B  Southampton   yes   True  \n",
            "888  woman       False  NaN  Southampton    no  False  \n",
            "889    man        True    C    Cherbourg   yes   True  \n",
            "890    man        True  NaN   Queenstown    no   True  \n",
            "\n",
            "[891 rows x 15 columns]>\n"
          ]
        }
      ]
    },
    {
      "cell_type": "code",
      "source": [
        "print(df.isnull().sum())"
      ],
      "metadata": {
        "colab": {
          "base_uri": "https://localhost:8080/"
        },
        "id": "1A1fE1zpIxEc",
        "outputId": "b8026b73-fc66-46f0-a0e6-6a5badc6c6f1"
      },
      "execution_count": 4,
      "outputs": [
        {
          "output_type": "stream",
          "name": "stdout",
          "text": [
            "survived         0\n",
            "pclass           0\n",
            "sex              0\n",
            "age            177\n",
            "sibsp            0\n",
            "parch            0\n",
            "fare             0\n",
            "embarked         2\n",
            "class            0\n",
            "who              0\n",
            "adult_male       0\n",
            "deck           688\n",
            "embark_town      2\n",
            "alive            0\n",
            "alone            0\n",
            "dtype: int64\n",
            "survived         0\n",
            "pclass           0\n",
            "sex              0\n",
            "age            177\n",
            "sibsp            0\n",
            "parch            0\n",
            "fare             0\n",
            "embarked         2\n",
            "class            0\n",
            "who              0\n",
            "adult_male       0\n",
            "deck           688\n",
            "embark_town      2\n",
            "alive            0\n",
            "alone            0\n",
            "dtype: int64\n"
          ]
        }
      ]
    },
    {
      "cell_type": "code",
      "source": [
        "df[\"age\"]=df[\"age\"].fillna(df[\"age\"].mean())\n",
        "print(df.isnull().sum())"
      ],
      "metadata": {
        "colab": {
          "base_uri": "https://localhost:8080/"
        },
        "id": "NtT5MRyfKzqb",
        "outputId": "df97bf82-6a33-4255-e9e8-d69d714d565e"
      },
      "execution_count": 9,
      "outputs": [
        {
          "output_type": "stream",
          "name": "stdout",
          "text": [
            "survived         0\n",
            "pclass           0\n",
            "sex              0\n",
            "age              0\n",
            "sibsp            0\n",
            "parch            0\n",
            "fare             0\n",
            "embarked         2\n",
            "class            0\n",
            "who              0\n",
            "adult_male       0\n",
            "deck           688\n",
            "embark_town      2\n",
            "alive            0\n",
            "alone            0\n",
            "dtype: int64\n"
          ]
        }
      ]
    },
    {
      "cell_type": "code",
      "source": [
        "sns.countplot(x=\"pclass\",hue=\"survived\",data=df)\n",
        "plt.title(\"count of the passanger class\")\n",
        "plt.show()"
      ],
      "metadata": {
        "colab": {
          "base_uri": "https://localhost:8080/",
          "height": 472
        },
        "id": "ozTz5wauJSY6",
        "outputId": "501b050a-2d4b-4740-de34-9805288b2e5b"
      },
      "execution_count": 6,
      "outputs": [
        {
          "output_type": "display_data",
          "data": {
            "text/plain": [
              "<Figure size 640x480 with 1 Axes>"
            ],
            "image/png": "[encoded data removed]"
          },
          "metadata": {}
        }
      ]
    }
  ]
}